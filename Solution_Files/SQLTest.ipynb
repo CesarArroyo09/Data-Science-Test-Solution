{
 "cells": [
  {
   "attachments": {},
   "cell_type": "markdown",
   "metadata": {},
   "source": [
    "# SQL Challenge\n",
    "\n",
    "For this challenge I used [http://www.sqlfiddle.com/](http://www.sqlfiddle.com/) using the MS SQL version.\n",
    "\n",
    "The SQL version that can be run on `sqlfiddle` is on [SQLTest.sql](./SQLTest.sql) on this same folder."
   ]
  },
  {
   "attachments": {},
   "cell_type": "markdown",
   "metadata": {},
   "source": [
    "\n",
    "\n",
    "## Part 1: Table creation and data insert\n",
    "To insert the data I ran the following SQL queries:\n",
    "```sql\n",
    "CREATE TABLE EMPLEADO (\n",
    "ID INT,\n",
    "NOMBRE VARCHAR(50),\n",
    "APELLIDO VARCHAR(59),\n",
    "SEXO CHAR(1),\n",
    "FECHA_NACIMIENTO DATE,\n",
    "SALARIO DECIMAL(10,2)\n",
    ");\n",
    "\n",
    "CREATE TABLE VACACIONES(\n",
    "ID INT,\n",
    "ID_EMP INT,\n",
    "FECHA_INICIO DATE,\n",
    "FECHA_FIN DATE,\n",
    "ESTADO CHAR(1),\n",
    "CANTIDAD_DIAS INT\n",
    ");\n",
    "\n",
    "/*EN ESTA TABLA SE ALMACENA LA INFORMACIÓN BASICA DE LOS\n",
    "EMPLEADOS*/\n",
    "INSERT INTO EMPLEADO VALUES (1,'JUAN','PELAEZ','M','1985-01-29',3500000);\n",
    "INSERT INTO EMPLEADO VALUES\n",
    "(2,'ANDRES','GARCIA','M','1975-05-22',5500000);\n",
    "INSERT INTO EMPLEADO VALUES (3,'LAURA','PEREZ','F','1991-09-10',2500000);\n",
    "INSERT INTO EMPLEADO VALUES (4,'PEPE','MARTINEZ','M','1987-12-01',3800000);\n",
    "INSERT INTO EMPLEADO VALUES (5,'MARGARITA','CORRALES','F','1990-07-02',4500000);\n",
    "\n",
    "/*EN ESTA TABLA SE ALMACENA LAS SOLCITUDES DE VACACIONES DE CADA EMPLEADO*/\n",
    "INSERT INTO VACACIONES VALUES\n",
    "(1,1,'2019-07-01','2019-07-15','A',14);\n",
    "INSERT INTO VACACIONES VALUES\n",
    "(2,2,'2019-03-01','2019-03-15','R',14);\n",
    "INSERT INTO VACACIONES VALUES\n",
    "(3,2,'2019-04-01','2019-04-15','A',14);\n",
    "INSERT INTO VACACIONES VALUES\n",
    "(4,2,'2019-08-14','2019-08-20','A',6);\n",
    "INSERT INTO VACACIONES VALUES\n",
    "(5,3,'2019-08-20','2019-08-25','A',5);\n",
    "INSERT INTO VACACIONES VALUES\n",
    "(6,3,'2019-12-20','2019-12-31','A',11);\n",
    "```"
   ]
  },
  {
   "attachments": {},
   "cell_type": "markdown",
   "metadata": {},
   "source": [
    "## Part 2: "
   ]
  },
  {
   "attachments": {},
   "cell_type": "markdown",
   "metadata": {},
   "source": []
  }
 ],
 "metadata": {
  "language_info": {
   "name": "python"
  },
  "orig_nbformat": 4
 },
 "nbformat": 4,
 "nbformat_minor": 2
}

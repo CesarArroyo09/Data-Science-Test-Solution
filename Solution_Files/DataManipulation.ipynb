{
  "cells": [
    {
      "cell_type": "code",
      "execution_count": 1,
      "metadata": {
        "colab": {
          "base_uri": "https://localhost:8080/"
        },
        "id": "Wrwrph8wt8yD",
        "outputId": "5cefd070-e5c9-4402-82e3-4092c7ba8464"
      },
      "outputs": [
        {
          "name": "stdout",
          "output_type": "stream",
          "text": [
            "Python 3.11.3\n"
          ]
        }
      ],
      "source": [
        "!python --version"
      ]
    },
    {
      "cell_type": "code",
      "execution_count": 2,
      "metadata": {
        "id": "cotCizoguuGa"
      },
      "outputs": [],
      "source": [
        "import pandas as pd"
      ]
    },
    {
      "cell_type": "code",
      "execution_count": 4,
      "metadata": {
        "id": "D3RGgyJ4uzSX"
      },
      "outputs": [],
      "source": [
        "datos_maestros_path = '../Data/Datos Maestros.xlsx'\n",
        "datos_maestros_sheet = 'Master Data Oficial'\n",
        "column_names = ['Nombre visible Agente', 'AGENTE (OFEI)', 'CENTRAL (dDEC, dSEGDES, dPRU…)',\n",
        "                'Tipo de central (Hidro, Termo, Filo, Menor)']\n",
        "\n",
        "datos_maestros_df = pd.read_excel(datos_maestros_path, sheet_name=datos_maestros_sheet,\n",
        "                                  usecols=column_names)"
      ]
    },
    {
      "cell_type": "code",
      "execution_count": 5,
      "metadata": {
        "id": "svLC7iPKJQv8"
      },
      "outputs": [],
      "source": [
        "# Define function to get quick data about dataframe\n",
        "def get_df_info(df: pd.DataFrame):\n",
        "  # Display the first few rows of the DataFrame\n",
        "  print(\"First few rows of the DataFrame:\")\n",
        "  print(df.head())\n",
        "\n",
        "  # Get the number of rows and columns\n",
        "  print(\"\\nNumber of rows and columns:\")\n",
        "  print(f\"Rows: {df.shape[0]}, Columns: {df.shape[1]}\")\n",
        "  \n",
        "  # Get column data types\n",
        "  print(\"\\nColumn data types:\")\n",
        "  print(df.dtypes)\n",
        "  \n",
        "  # Get basic statistics for numeric columns\n",
        "  print(\"\\nBasic statistics for numeric columns:\")\n",
        "  print(df.describe())\n",
        "  \n",
        "  # Get the number of non-null values in each column\n",
        "  print(\"\\nNumber of non-null values in each column:\")\n",
        "  print(df.count())\n",
        "  \n",
        "  # Get the number of unique values in each column\n",
        "  print(\"\\nNumber of unique values in each column:\")\n",
        "  print(df.nunique())"
      ]
    },
    {
      "cell_type": "code",
      "execution_count": 6,
      "metadata": {
        "colab": {
          "base_uri": "https://localhost:8080/"
        },
        "id": "d4udYVPx31sJ",
        "outputId": "58018d9b-afd2-419a-f377-6867da867702"
      },
      "outputs": [
        {
          "name": "stdout",
          "output_type": "stream",
          "text": [
            "First few rows of the DataFrame:\n",
            "  Nombre visible Agente        AGENTE (OFEI) CENTRAL (dDEC, dSEGDES, dPRU…)   \n",
            "0           RIO PIEDRAS  ENERGIA RIO PIEDRAS                       MAGUAFRE  \\\n",
            "1            ALEJANDRÍA       PCH ALEJANDRÍA                   M_ALEJANDRIA   \n",
            "2                  EPSA       EPSA(PACIFICO)                          ALBAN   \n",
            "3                  EPSA       EPSA(PACIFICO)                          ALBAN   \n",
            "4                  EPSA       EPSA(PACIFICO)                          ALBAN   \n",
            "\n",
            "  Tipo de central (Hidro, Termo, Filo, Menor)  \n",
            "0                                           M  \n",
            "1                                           M  \n",
            "2                                           H  \n",
            "3                                           H  \n",
            "4                                           H  \n",
            "\n",
            "Number of rows and columns:\n",
            "Rows: 303, Columns: 4\n",
            "\n",
            "Column data types:\n",
            "Nombre visible Agente                          object\n",
            "AGENTE (OFEI)                                  object\n",
            "CENTRAL (dDEC, dSEGDES, dPRU…)                 object\n",
            "Tipo de central (Hidro, Termo, Filo, Menor)    object\n",
            "dtype: object\n",
            "\n",
            "Basic statistics for numeric columns:\n",
            "       Nombre visible Agente AGENTE (OFEI) CENTRAL (dDEC, dSEGDES, dPRU…)   \n",
            "count                    303           303                            303  \\\n",
            "unique                    52            53                            199   \n",
            "top                      EPM         EEPPM                        GUATRON   \n",
            "freq                      72            72                             11   \n",
            "\n",
            "       Tipo de central (Hidro, Termo, Filo, Menor)  \n",
            "count                                          303  \n",
            "unique                                           4  \n",
            "top                                              M  \n",
            "freq                                           159  \n",
            "\n",
            "Number of non-null values in each column:\n",
            "Nombre visible Agente                          303\n",
            "AGENTE (OFEI)                                  303\n",
            "CENTRAL (dDEC, dSEGDES, dPRU…)                 303\n",
            "Tipo de central (Hidro, Termo, Filo, Menor)    303\n",
            "dtype: int64\n",
            "\n",
            "Number of unique values in each column:\n",
            "Nombre visible Agente                           52\n",
            "AGENTE (OFEI)                                   53\n",
            "CENTRAL (dDEC, dSEGDES, dPRU…)                 199\n",
            "Tipo de central (Hidro, Termo, Filo, Menor)      4\n",
            "dtype: int64\n"
          ]
        }
      ],
      "source": [
        "get_df_info(datos_maestros_df)"
      ]
    },
    {
      "cell_type": "code",
      "execution_count": 7,
      "metadata": {
        "colab": {
          "base_uri": "https://localhost:8080/"
        },
        "id": "i5MGFPpo4uGR",
        "outputId": "3b6892ed-94c4-4b48-90da-900693489045"
      },
      "outputs": [
        {
          "name": "stdout",
          "output_type": "stream",
          "text": [
            "['ENERGIA RIO PIEDRAS', 'PCH ALEJANDRÍA', 'EPSA(PACIFICO)', 'EEPPM', 'ISAGEN', 'VATIA S.A.', 'CELSIA', 'EMGESA S.A.', 'ESPROD SAS ESP', 'EMSA(META)', 'GECELCA S.A. E.S.P', 'CASCADA', 'MULCALARCA', 'EEP(PEREIRA)', 'CEMEX ENERGY', 'HIDRALPOR SAS ESP', 'RIOEN SAS  E.S.P.', 'AES CHIVOR', 'C.T. EL MORRO 2', 'EMEE(POPAYAN)', 'ENERGETICA', 'PROENCA ', 'ESSA(SANTANDER)', 'BIOGAS DOÑA JUANA', 'ENREVSA E.S.P.', 'CH EL EDEN', 'ZF CELSIA', 'DICELER', 'ELECTROHUILA', 'CEDENAR', 'ENERCO', 'GENERPUTUMAYO', 'IAC ENERGY', 'HZ ENERGY', 'GEDEN SAS', 'GENERADORA LUZMA', 'RISARALDA ENERGIA', 'GENSA', 'GELEC', 'PROELECTRICA RESTRUC', 'SURENERGY', 'CETSA(TULUA)', 'GEC S.A. E.S.P.', 'TERMOTASAJERO', 'TERMOTASAJERO DOS', 'GENERSA', 'TERMOCANDELARIA INT', 'TERMOEMCALI', 'TERMOPIEDRAS S.A.', 'TERMOVALLE', 'TERMOYOPAL', 'URRA', 'GENERAMOS ENERGIA']\n",
            "['RIO PIEDRAS', 'ALEJANDRÍA', 'EPSA', 'EPM', 'ISAGEN', 'VATIA', 'CELSIA', 'EMGESA', 'ESPROD', 'EMSA', 'GECELCA', 'LA CASCADA', 'MULCALARCA', 'EEP', 'CEMEX', 'HIDRALPOR', 'RIOEN', 'CHIVOR', 'EL MORRO', 'EMEE', 'ENERGETICA', 'PROENCA', 'ESSA', 'DOÑA JUANA', 'ENREVSA', 'EL EDEN', 'DICELER', 'ELECTROHUILA', 'CEDENAR', 'ENERCO', 'PUTUMAYO', 'IAC ENERGY', 'HZ ENERGY', 'GEDEN', 'LUZMA', 'RISARALDA', 'GENSA', 'GELEC', 'PROELECTRICA', 'SURENERGY', 'CETSA', 'GEC', 'TASAJERO', 'TASAJERO 2', 'GENERSA', 'TERMOCANDELARIA', 'TERMOEMCALI', 'TERMOPIEDRAS', 'TERMOVALLE', 'TERMOYOPAL', 'URRA', 'GENERAMOS ENERGIA']\n"
          ]
        }
      ],
      "source": [
        "a = list(datos_maestros_df['AGENTE (OFEI)'].unique())\n",
        "b = list(datos_maestros_df['Nombre visible Agente'].unique())\n",
        "\n",
        "print(a)\n",
        "print(b)"
      ]
    },
    {
      "cell_type": "code",
      "execution_count": null,
      "metadata": {
        "id": "wpgeyeKE7Iib"
      },
      "outputs": [],
      "source": [
        "filter_condition = ((datos_maestros_df['AGENTE (OFEI)'] == 'EMGESA S.A.') |\n",
        "                    (datos_maestros_df['Nombre visible Agente'] == 'EMGESA')) \\\n",
        "                   & (datos_maestros_df['Tipo de central (Hidro, Termo, Filo, Menor)'].isin(['H','T']))\n",
        "\n",
        "datos_maestros_df = datos_maestros_df[filter_condition]"
      ]
    },
    {
      "cell_type": "code",
      "execution_count": null,
      "metadata": {
        "id": "gW1bpVId-Oqa"
      },
      "outputs": [],
      "source": [
        "datos_maestros_df.head(20)"
      ]
    },
    {
      "cell_type": "code",
      "execution_count": null,
      "metadata": {
        "id": "SYtGAH43_gw6"
      },
      "outputs": [],
      "source": [
        "d1204_path = './data/d1204.TXT'\n",
        "\n",
        "d1204_df = pd.read_csv(d1204_path, header=None, index_col=0, quotechar='\"', encoding='latin-1')"
      ]
    },
    {
      "cell_type": "code",
      "execution_count": null,
      "metadata": {
        "id": "pDJ7Tv3OIS5-"
      },
      "outputs": [],
      "source": [
        "get_df_info(d1204_df)"
      ]
    },
    {
      "cell_type": "code",
      "execution_count": null,
      "metadata": {
        "colab": {
          "base_uri": "https://localhost:8080/"
        },
        "id": "uhWC9nzrJJgZ",
        "outputId": "916e6885-e9b1-4ef0-a076-f5309b2a9fe4"
      },
      "outputs": [
        {
          "data": {
            "text/plain": [
              "Index(['AG_ARGOSCTG', 'AG_ARGOSYUM', 'AG_ELCAIRO', 'AG_REFICAR', 'AG_UNIBOL',\n",
              "       'AG_YAGUARI', 'ALBAN', 'ALTOTULUA', 'AMOYA', 'BAJOTULUA',\n",
              "       ...\n",
              "       'TSIERRA', 'TVALLE', 'TYOPAL2', 'URRA', 'VENEZUE1', 'ZIPAEMG2',\n",
              "       'ZIPAEMG3', 'ZIPAEMG4', 'ZIPAEMG5', 'Total'],\n",
              "      dtype='object', name='Central', length=217)"
            ]
          },
          "execution_count": 20,
          "metadata": {},
          "output_type": "execute_result"
        }
      ],
      "source": [
        "d1204_df.index.name = \"Central\"\n",
        "d1204_df.index"
      ]
    },
    {
      "cell_type": "code",
      "execution_count": null,
      "metadata": {
        "colab": {
          "base_uri": "https://localhost:8080/",
          "height": 311
        },
        "id": "E0ILtQw7McKw",
        "outputId": "bf149760-2574-4b3f-8103-cafc6fe70942"
      },
      "outputs": [
        {
          "ename": "KeyError",
          "evalue": "ignored",
          "output_type": "error",
          "traceback": [
            "\u001b[0;31m---------------------------------------------------------------------------\u001b[0m",
            "\u001b[0;31mKeyError\u001b[0m                                  Traceback (most recent call last)",
            "\u001b[0;32m<ipython-input-22-df52f7137e6f>\u001b[0m in \u001b[0;36m<cell line: 1>\u001b[0;34m()\u001b[0m\n\u001b[0;32m----> 1\u001b[0;31m \u001b[0md1204_df\u001b[0m\u001b[0;34m[\u001b[0m\u001b[0;34m[\u001b[0m\u001b[0;34m\"AG_ARGOSCTG\"\u001b[0m\u001b[0;34m]\u001b[0m\u001b[0;34m]\u001b[0m\u001b[0;34m\u001b[0m\u001b[0;34m\u001b[0m\u001b[0m\n\u001b[0m",
            "\u001b[0;32m/usr/local/lib/python3.9/dist-packages/pandas/core/frame.py\u001b[0m in \u001b[0;36m__getitem__\u001b[0;34m(self, key)\u001b[0m\n\u001b[1;32m   3811\u001b[0m             \u001b[0;32mif\u001b[0m \u001b[0mis_iterator\u001b[0m\u001b[0;34m(\u001b[0m\u001b[0mkey\u001b[0m\u001b[0;34m)\u001b[0m\u001b[0;34m:\u001b[0m\u001b[0;34m\u001b[0m\u001b[0;34m\u001b[0m\u001b[0m\n\u001b[1;32m   3812\u001b[0m                 \u001b[0mkey\u001b[0m \u001b[0;34m=\u001b[0m \u001b[0mlist\u001b[0m\u001b[0;34m(\u001b[0m\u001b[0mkey\u001b[0m\u001b[0;34m)\u001b[0m\u001b[0;34m\u001b[0m\u001b[0;34m\u001b[0m\u001b[0m\n\u001b[0;32m-> 3813\u001b[0;31m             \u001b[0mindexer\u001b[0m \u001b[0;34m=\u001b[0m \u001b[0mself\u001b[0m\u001b[0;34m.\u001b[0m\u001b[0mcolumns\u001b[0m\u001b[0;34m.\u001b[0m\u001b[0m_get_indexer_strict\u001b[0m\u001b[0;34m(\u001b[0m\u001b[0mkey\u001b[0m\u001b[0;34m,\u001b[0m \u001b[0;34m\"columns\"\u001b[0m\u001b[0;34m)\u001b[0m\u001b[0;34m[\u001b[0m\u001b[0;36m1\u001b[0m\u001b[0;34m]\u001b[0m\u001b[0;34m\u001b[0m\u001b[0;34m\u001b[0m\u001b[0m\n\u001b[0m\u001b[1;32m   3814\u001b[0m \u001b[0;34m\u001b[0m\u001b[0m\n\u001b[1;32m   3815\u001b[0m         \u001b[0;31m# take() does not accept boolean indexers\u001b[0m\u001b[0;34m\u001b[0m\u001b[0;34m\u001b[0m\u001b[0m\n",
            "\u001b[0;32m/usr/local/lib/python3.9/dist-packages/pandas/core/indexes/base.py\u001b[0m in \u001b[0;36m_get_indexer_strict\u001b[0;34m(self, key, axis_name)\u001b[0m\n\u001b[1;32m   6068\u001b[0m             \u001b[0mkeyarr\u001b[0m\u001b[0;34m,\u001b[0m \u001b[0mindexer\u001b[0m\u001b[0;34m,\u001b[0m \u001b[0mnew_indexer\u001b[0m \u001b[0;34m=\u001b[0m \u001b[0mself\u001b[0m\u001b[0;34m.\u001b[0m\u001b[0m_reindex_non_unique\u001b[0m\u001b[0;34m(\u001b[0m\u001b[0mkeyarr\u001b[0m\u001b[0;34m)\u001b[0m\u001b[0;34m\u001b[0m\u001b[0;34m\u001b[0m\u001b[0m\n\u001b[1;32m   6069\u001b[0m \u001b[0;34m\u001b[0m\u001b[0m\n\u001b[0;32m-> 6070\u001b[0;31m         \u001b[0mself\u001b[0m\u001b[0;34m.\u001b[0m\u001b[0m_raise_if_missing\u001b[0m\u001b[0;34m(\u001b[0m\u001b[0mkeyarr\u001b[0m\u001b[0;34m,\u001b[0m \u001b[0mindexer\u001b[0m\u001b[0;34m,\u001b[0m \u001b[0maxis_name\u001b[0m\u001b[0;34m)\u001b[0m\u001b[0;34m\u001b[0m\u001b[0;34m\u001b[0m\u001b[0m\n\u001b[0m\u001b[1;32m   6071\u001b[0m \u001b[0;34m\u001b[0m\u001b[0m\n\u001b[1;32m   6072\u001b[0m         \u001b[0mkeyarr\u001b[0m \u001b[0;34m=\u001b[0m \u001b[0mself\u001b[0m\u001b[0;34m.\u001b[0m\u001b[0mtake\u001b[0m\u001b[0;34m(\u001b[0m\u001b[0mindexer\u001b[0m\u001b[0;34m)\u001b[0m\u001b[0;34m\u001b[0m\u001b[0;34m\u001b[0m\u001b[0m\n",
            "\u001b[0;32m/usr/local/lib/python3.9/dist-packages/pandas/core/indexes/base.py\u001b[0m in \u001b[0;36m_raise_if_missing\u001b[0;34m(self, key, indexer, axis_name)\u001b[0m\n\u001b[1;32m   6128\u001b[0m                 \u001b[0;32mif\u001b[0m \u001b[0muse_interval_msg\u001b[0m\u001b[0;34m:\u001b[0m\u001b[0;34m\u001b[0m\u001b[0;34m\u001b[0m\u001b[0m\n\u001b[1;32m   6129\u001b[0m                     \u001b[0mkey\u001b[0m \u001b[0;34m=\u001b[0m \u001b[0mlist\u001b[0m\u001b[0;34m(\u001b[0m\u001b[0mkey\u001b[0m\u001b[0;34m)\u001b[0m\u001b[0;34m\u001b[0m\u001b[0;34m\u001b[0m\u001b[0m\n\u001b[0;32m-> 6130\u001b[0;31m                 \u001b[0;32mraise\u001b[0m \u001b[0mKeyError\u001b[0m\u001b[0;34m(\u001b[0m\u001b[0;34mf\"None of [{key}] are in the [{axis_name}]\"\u001b[0m\u001b[0;34m)\u001b[0m\u001b[0;34m\u001b[0m\u001b[0;34m\u001b[0m\u001b[0m\n\u001b[0m\u001b[1;32m   6131\u001b[0m \u001b[0;34m\u001b[0m\u001b[0m\n\u001b[1;32m   6132\u001b[0m             \u001b[0mnot_found\u001b[0m \u001b[0;34m=\u001b[0m \u001b[0mlist\u001b[0m\u001b[0;34m(\u001b[0m\u001b[0mensure_index\u001b[0m\u001b[0;34m(\u001b[0m\u001b[0mkey\u001b[0m\u001b[0;34m)\u001b[0m\u001b[0;34m[\u001b[0m\u001b[0mmissing_mask\u001b[0m\u001b[0;34m.\u001b[0m\u001b[0mnonzero\u001b[0m\u001b[0;34m(\u001b[0m\u001b[0;34m)\u001b[0m\u001b[0;34m[\u001b[0m\u001b[0;36m0\u001b[0m\u001b[0;34m]\u001b[0m\u001b[0;34m]\u001b[0m\u001b[0;34m.\u001b[0m\u001b[0munique\u001b[0m\u001b[0;34m(\u001b[0m\u001b[0;34m)\u001b[0m\u001b[0;34m)\u001b[0m\u001b[0;34m\u001b[0m\u001b[0;34m\u001b[0m\u001b[0m\n",
            "\u001b[0;31mKeyError\u001b[0m: \"None of [Index(['AG_ARGOSCTG'], dtype='object')] are in the [columns]\""
          ]
        }
      ],
      "source": [
        "d1204_df[[\"AG_ARGOSCTG\"]]"
      ]
    },
    {
      "cell_type": "code",
      "execution_count": null,
      "metadata": {
        "id": "eKxNGVjeM-6Y"
      },
      "outputs": [],
      "source": []
    }
  ],
  "metadata": {
    "colab": {
      "provenance": []
    },
    "kernelspec": {
      "display_name": "Python 3",
      "name": "python3"
    },
    "language_info": {
      "codemirror_mode": {
        "name": "ipython",
        "version": 3
      },
      "file_extension": ".py",
      "mimetype": "text/x-python",
      "name": "python",
      "nbconvert_exporter": "python",
      "pygments_lexer": "ipython3",
      "version": "3.11.3"
    }
  },
  "nbformat": 4,
  "nbformat_minor": 0
}
